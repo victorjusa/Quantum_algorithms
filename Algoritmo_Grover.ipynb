{
  "nbformat": 4,
  "nbformat_minor": 0,
  "metadata": {
    "colab": {
      "provenance": [],
      "authorship_tag": "ABX9TyPHfLuHIjgAHlgfN9W6ZnUo",
      "include_colab_link": true
    },
    "kernelspec": {
      "name": "python3",
      "display_name": "Python 3"
    },
    "language_info": {
      "name": "python"
    }
  },
  "cells": [
    {
      "cell_type": "markdown",
      "metadata": {
        "id": "view-in-github",
        "colab_type": "text"
      },
      "source": [
        "<a href=\"https://colab.research.google.com/github/victorjusa/Quantum_algorithms/blob/main/Algoritmo_Grover.ipynb\" target=\"_parent\"><img src=\"https://colab.research.google.com/assets/colab-badge.svg\" alt=\"Open In Colab\"/></a>"
      ]
    },
    {
      "cell_type": "markdown",
      "source": [
        "#Algoritmo de Grover"
      ],
      "metadata": {
        "id": "CtcwxlreEaDq"
      }
    },
    {
      "cell_type": "markdown",
      "source": [
        "##Librerias e imports"
      ],
      "metadata": {
        "id": "dYnbD3U8Ec60"
      }
    },
    {
      "cell_type": "code",
      "source": [
        "!pip install qiskit\n",
        "!pip install setuptools\n",
        "!pip install qiskit-ibm-runtime\n",
        "!pip install qiskit-machine-learning\n",
        "!pip install \"requests~=2.27\"\n",
        "!pip install matplotlib\n",
        "!pip install qiskit_ibm_provider\n",
        "!pip install pip install pylatexenc\n",
        "!pip install qiskit_aer"
      ],
      "metadata": {
        "colab": {
          "base_uri": "https://localhost:8080/"
        },
        "id": "qhXY5mFgEYO8",
        "outputId": "fb14d574-9fcd-4698-a47d-249b08f1bca8"
      },
      "execution_count": null,
      "outputs": [
        {
          "output_type": "stream",
          "name": "stdout",
          "text": [
            "Requirement already satisfied: qiskit in /usr/local/lib/python3.10/dist-packages (1.1.0)\n",
            "Requirement already satisfied: rustworkx>=0.14.0 in /usr/local/lib/python3.10/dist-packages (from qiskit) (0.14.2)\n",
            "Requirement already satisfied: numpy<3,>=1.17 in /usr/local/lib/python3.10/dist-packages (from qiskit) (1.25.2)\n",
            "Requirement already satisfied: scipy>=1.5 in /usr/local/lib/python3.10/dist-packages (from qiskit) (1.11.4)\n",
            "Requirement already satisfied: sympy>=1.3 in /usr/local/lib/python3.10/dist-packages (from qiskit) (1.12.1)\n",
            "Requirement already satisfied: dill>=0.3 in /usr/local/lib/python3.10/dist-packages (from qiskit) (0.3.8)\n",
            "Requirement already satisfied: python-dateutil>=2.8.0 in /usr/local/lib/python3.10/dist-packages (from qiskit) (2.8.2)\n",
            "Requirement already satisfied: stevedore>=3.0.0 in /usr/local/lib/python3.10/dist-packages (from qiskit) (5.2.0)\n",
            "Requirement already satisfied: typing-extensions in /usr/local/lib/python3.10/dist-packages (from qiskit) (4.12.1)\n",
            "Requirement already satisfied: symengine>=0.11 in /usr/local/lib/python3.10/dist-packages (from qiskit) (0.11.0)\n",
            "Requirement already satisfied: six>=1.5 in /usr/local/lib/python3.10/dist-packages (from python-dateutil>=2.8.0->qiskit) (1.16.0)\n",
            "Requirement already satisfied: pbr!=2.1.0,>=2.0.0 in /usr/local/lib/python3.10/dist-packages (from stevedore>=3.0.0->qiskit) (6.0.0)\n",
            "Requirement already satisfied: mpmath<1.4.0,>=1.1.0 in /usr/local/lib/python3.10/dist-packages (from sympy>=1.3->qiskit) (1.3.0)\n",
            "Requirement already satisfied: setuptools in /usr/local/lib/python3.10/dist-packages (67.7.2)\n",
            "Requirement already satisfied: qiskit-ibm-runtime in /usr/local/lib/python3.10/dist-packages (0.24.0)\n",
            "Requirement already satisfied: requests>=2.19 in /usr/local/lib/python3.10/dist-packages (from qiskit-ibm-runtime) (2.31.0)\n",
            "Requirement already satisfied: requests-ntlm>=1.1.0 in /usr/local/lib/python3.10/dist-packages (from qiskit-ibm-runtime) (1.3.0)\n",
            "Requirement already satisfied: numpy>=1.13 in /usr/local/lib/python3.10/dist-packages (from qiskit-ibm-runtime) (1.25.2)\n",
            "Requirement already satisfied: urllib3>=1.21.1 in /usr/local/lib/python3.10/dist-packages (from qiskit-ibm-runtime) (2.2.1)\n",
            "Requirement already satisfied: python-dateutil>=2.8.0 in /usr/local/lib/python3.10/dist-packages (from qiskit-ibm-runtime) (2.8.2)\n",
            "Requirement already satisfied: websocket-client>=1.5.1 in /usr/local/lib/python3.10/dist-packages (from qiskit-ibm-runtime) (1.8.0)\n",
            "Requirement already satisfied: ibm-platform-services>=0.22.6 in /usr/local/lib/python3.10/dist-packages (from qiskit-ibm-runtime) (0.53.7)\n",
            "Requirement already satisfied: pydantic in /usr/local/lib/python3.10/dist-packages (from qiskit-ibm-runtime) (2.7.3)\n",
            "Requirement already satisfied: qiskit>=1.1.0 in /usr/local/lib/python3.10/dist-packages (from qiskit-ibm-runtime) (1.1.0)\n",
            "Requirement already satisfied: ibm-cloud-sdk-core<4.0.0,>=3.19.2 in /usr/local/lib/python3.10/dist-packages (from ibm-platform-services>=0.22.6->qiskit-ibm-runtime) (3.20.1)\n",
            "Requirement already satisfied: six>=1.5 in /usr/local/lib/python3.10/dist-packages (from python-dateutil>=2.8.0->qiskit-ibm-runtime) (1.16.0)\n",
            "Requirement already satisfied: rustworkx>=0.14.0 in /usr/local/lib/python3.10/dist-packages (from qiskit>=1.1.0->qiskit-ibm-runtime) (0.14.2)\n",
            "Requirement already satisfied: scipy>=1.5 in /usr/local/lib/python3.10/dist-packages (from qiskit>=1.1.0->qiskit-ibm-runtime) (1.11.4)\n",
            "Requirement already satisfied: sympy>=1.3 in /usr/local/lib/python3.10/dist-packages (from qiskit>=1.1.0->qiskit-ibm-runtime) (1.12.1)\n",
            "Requirement already satisfied: dill>=0.3 in /usr/local/lib/python3.10/dist-packages (from qiskit>=1.1.0->qiskit-ibm-runtime) (0.3.8)\n",
            "Requirement already satisfied: stevedore>=3.0.0 in /usr/local/lib/python3.10/dist-packages (from qiskit>=1.1.0->qiskit-ibm-runtime) (5.2.0)\n",
            "Requirement already satisfied: typing-extensions in /usr/local/lib/python3.10/dist-packages (from qiskit>=1.1.0->qiskit-ibm-runtime) (4.12.1)\n",
            "Requirement already satisfied: symengine>=0.11 in /usr/local/lib/python3.10/dist-packages (from qiskit>=1.1.0->qiskit-ibm-runtime) (0.11.0)\n",
            "Requirement already satisfied: charset-normalizer<4,>=2 in /usr/local/lib/python3.10/dist-packages (from requests>=2.19->qiskit-ibm-runtime) (3.3.2)\n",
            "Requirement already satisfied: idna<4,>=2.5 in /usr/local/lib/python3.10/dist-packages (from requests>=2.19->qiskit-ibm-runtime) (3.7)\n",
            "Requirement already satisfied: certifi>=2017.4.17 in /usr/local/lib/python3.10/dist-packages (from requests>=2.19->qiskit-ibm-runtime) (2024.6.2)\n",
            "Requirement already satisfied: cryptography>=1.3 in /usr/local/lib/python3.10/dist-packages (from requests-ntlm>=1.1.0->qiskit-ibm-runtime) (42.0.7)\n",
            "Requirement already satisfied: pyspnego>=0.4.0 in /usr/local/lib/python3.10/dist-packages (from requests-ntlm>=1.1.0->qiskit-ibm-runtime) (0.11.0)\n",
            "Requirement already satisfied: annotated-types>=0.4.0 in /usr/local/lib/python3.10/dist-packages (from pydantic->qiskit-ibm-runtime) (0.7.0)\n",
            "Requirement already satisfied: pydantic-core==2.18.4 in /usr/local/lib/python3.10/dist-packages (from pydantic->qiskit-ibm-runtime) (2.18.4)\n",
            "Requirement already satisfied: cffi>=1.12 in /usr/local/lib/python3.10/dist-packages (from cryptography>=1.3->requests-ntlm>=1.1.0->qiskit-ibm-runtime) (1.16.0)\n",
            "Requirement already satisfied: PyJWT<3.0.0,>=2.8.0 in /usr/local/lib/python3.10/dist-packages (from ibm-cloud-sdk-core<4.0.0,>=3.19.2->ibm-platform-services>=0.22.6->qiskit-ibm-runtime) (2.8.0)\n",
            "Requirement already satisfied: pbr!=2.1.0,>=2.0.0 in /usr/local/lib/python3.10/dist-packages (from stevedore>=3.0.0->qiskit>=1.1.0->qiskit-ibm-runtime) (6.0.0)\n",
            "Requirement already satisfied: mpmath<1.4.0,>=1.1.0 in /usr/local/lib/python3.10/dist-packages (from sympy>=1.3->qiskit>=1.1.0->qiskit-ibm-runtime) (1.3.0)\n",
            "Requirement already satisfied: pycparser in /usr/local/lib/python3.10/dist-packages (from cffi>=1.12->cryptography>=1.3->requests-ntlm>=1.1.0->qiskit-ibm-runtime) (2.22)\n",
            "Requirement already satisfied: qiskit-machine-learning in /usr/local/lib/python3.10/dist-packages (0.7.2)\n",
            "Requirement already satisfied: qiskit>=0.44 in /usr/local/lib/python3.10/dist-packages (from qiskit-machine-learning) (1.1.0)\n",
            "Requirement already satisfied: qiskit-algorithms>=0.2.0 in /usr/local/lib/python3.10/dist-packages (from qiskit-machine-learning) (0.3.0)\n",
            "Requirement already satisfied: scipy>=1.4 in /usr/local/lib/python3.10/dist-packages (from qiskit-machine-learning) (1.11.4)\n",
            "Requirement already satisfied: numpy>=1.17 in /usr/local/lib/python3.10/dist-packages (from qiskit-machine-learning) (1.25.2)\n",
            "Requirement already satisfied: psutil>=5 in /usr/local/lib/python3.10/dist-packages (from qiskit-machine-learning) (5.9.5)\n",
            "Requirement already satisfied: scikit-learn>=1.2.0 in /usr/local/lib/python3.10/dist-packages (from qiskit-machine-learning) (1.2.2)\n",
            "Requirement already satisfied: fastdtw in /usr/local/lib/python3.10/dist-packages (from qiskit-machine-learning) (0.3.4)\n",
            "Requirement already satisfied: setuptools>=40.1.0 in /usr/local/lib/python3.10/dist-packages (from qiskit-machine-learning) (67.7.2)\n",
            "Requirement already satisfied: dill>=0.3.4 in /usr/local/lib/python3.10/dist-packages (from qiskit-machine-learning) (0.3.8)\n",
            "Requirement already satisfied: rustworkx>=0.14.0 in /usr/local/lib/python3.10/dist-packages (from qiskit>=0.44->qiskit-machine-learning) (0.14.2)\n",
            "Requirement already satisfied: sympy>=1.3 in /usr/local/lib/python3.10/dist-packages (from qiskit>=0.44->qiskit-machine-learning) (1.12.1)\n",
            "Requirement already satisfied: python-dateutil>=2.8.0 in /usr/local/lib/python3.10/dist-packages (from qiskit>=0.44->qiskit-machine-learning) (2.8.2)\n",
            "Requirement already satisfied: stevedore>=3.0.0 in /usr/local/lib/python3.10/dist-packages (from qiskit>=0.44->qiskit-machine-learning) (5.2.0)\n",
            "Requirement already satisfied: typing-extensions in /usr/local/lib/python3.10/dist-packages (from qiskit>=0.44->qiskit-machine-learning) (4.12.1)\n",
            "Requirement already satisfied: symengine>=0.11 in /usr/local/lib/python3.10/dist-packages (from qiskit>=0.44->qiskit-machine-learning) (0.11.0)\n",
            "Requirement already satisfied: joblib>=1.1.1 in /usr/local/lib/python3.10/dist-packages (from scikit-learn>=1.2.0->qiskit-machine-learning) (1.4.2)\n",
            "Requirement already satisfied: threadpoolctl>=2.0.0 in /usr/local/lib/python3.10/dist-packages (from scikit-learn>=1.2.0->qiskit-machine-learning) (3.5.0)\n",
            "Requirement already satisfied: six>=1.5 in /usr/local/lib/python3.10/dist-packages (from python-dateutil>=2.8.0->qiskit>=0.44->qiskit-machine-learning) (1.16.0)\n",
            "Requirement already satisfied: pbr!=2.1.0,>=2.0.0 in /usr/local/lib/python3.10/dist-packages (from stevedore>=3.0.0->qiskit>=0.44->qiskit-machine-learning) (6.0.0)\n",
            "Requirement already satisfied: mpmath<1.4.0,>=1.1.0 in /usr/local/lib/python3.10/dist-packages (from sympy>=1.3->qiskit>=0.44->qiskit-machine-learning) (1.3.0)\n",
            "Requirement already satisfied: requests~=2.27 in /usr/local/lib/python3.10/dist-packages (2.31.0)\n",
            "Requirement already satisfied: charset-normalizer<4,>=2 in /usr/local/lib/python3.10/dist-packages (from requests~=2.27) (3.3.2)\n",
            "Requirement already satisfied: idna<4,>=2.5 in /usr/local/lib/python3.10/dist-packages (from requests~=2.27) (3.7)\n",
            "Requirement already satisfied: urllib3<3,>=1.21.1 in /usr/local/lib/python3.10/dist-packages (from requests~=2.27) (2.2.1)\n",
            "Requirement already satisfied: certifi>=2017.4.17 in /usr/local/lib/python3.10/dist-packages (from requests~=2.27) (2024.6.2)\n",
            "Requirement already satisfied: matplotlib in /usr/local/lib/python3.10/dist-packages (3.7.1)\n",
            "Requirement already satisfied: contourpy>=1.0.1 in /usr/local/lib/python3.10/dist-packages (from matplotlib) (1.2.1)\n",
            "Requirement already satisfied: cycler>=0.10 in /usr/local/lib/python3.10/dist-packages (from matplotlib) (0.12.1)\n",
            "Requirement already satisfied: fonttools>=4.22.0 in /usr/local/lib/python3.10/dist-packages (from matplotlib) (4.53.0)\n",
            "Requirement already satisfied: kiwisolver>=1.0.1 in /usr/local/lib/python3.10/dist-packages (from matplotlib) (1.4.5)\n",
            "Requirement already satisfied: numpy>=1.20 in /usr/local/lib/python3.10/dist-packages (from matplotlib) (1.25.2)\n",
            "Requirement already satisfied: packaging>=20.0 in /usr/local/lib/python3.10/dist-packages (from matplotlib) (24.0)\n",
            "Requirement already satisfied: pillow>=6.2.0 in /usr/local/lib/python3.10/dist-packages (from matplotlib) (9.4.0)\n",
            "Requirement already satisfied: pyparsing>=2.3.1 in /usr/local/lib/python3.10/dist-packages (from matplotlib) (3.1.2)\n",
            "Requirement already satisfied: python-dateutil>=2.7 in /usr/local/lib/python3.10/dist-packages (from matplotlib) (2.8.2)\n",
            "Requirement already satisfied: six>=1.5 in /usr/local/lib/python3.10/dist-packages (from python-dateutil>=2.7->matplotlib) (1.16.0)\n",
            "Requirement already satisfied: qiskit_ibm_provider in /usr/local/lib/python3.10/dist-packages (0.11.0)\n",
            "Requirement already satisfied: qiskit>=0.45.0 in /usr/local/lib/python3.10/dist-packages (from qiskit_ibm_provider) (1.1.0)\n",
            "Requirement already satisfied: requests>=2.19 in /usr/local/lib/python3.10/dist-packages (from qiskit_ibm_provider) (2.31.0)\n",
            "Requirement already satisfied: requests-ntlm>=1.1.0 in /usr/local/lib/python3.10/dist-packages (from qiskit_ibm_provider) (1.3.0)\n",
            "Requirement already satisfied: numpy>=1.13 in /usr/local/lib/python3.10/dist-packages (from qiskit_ibm_provider) (1.25.2)\n",
            "Requirement already satisfied: urllib3>=1.21.1 in /usr/local/lib/python3.10/dist-packages (from qiskit_ibm_provider) (2.2.1)\n",
            "Requirement already satisfied: python-dateutil>=2.8.0 in /usr/local/lib/python3.10/dist-packages (from qiskit_ibm_provider) (2.8.2)\n",
            "Requirement already satisfied: websocket-client>=1.5.1 in /usr/local/lib/python3.10/dist-packages (from qiskit_ibm_provider) (1.8.0)\n",
            "Requirement already satisfied: websockets>=10.0 in /usr/local/lib/python3.10/dist-packages (from qiskit_ibm_provider) (12.0)\n",
            "Requirement already satisfied: typing-extensions>=4.3 in /usr/local/lib/python3.10/dist-packages (from qiskit_ibm_provider) (4.12.1)\n",
            "Requirement already satisfied: six>=1.5 in /usr/local/lib/python3.10/dist-packages (from python-dateutil>=2.8.0->qiskit_ibm_provider) (1.16.0)\n",
            "Requirement already satisfied: rustworkx>=0.14.0 in /usr/local/lib/python3.10/dist-packages (from qiskit>=0.45.0->qiskit_ibm_provider) (0.14.2)\n",
            "Requirement already satisfied: scipy>=1.5 in /usr/local/lib/python3.10/dist-packages (from qiskit>=0.45.0->qiskit_ibm_provider) (1.11.4)\n",
            "Requirement already satisfied: sympy>=1.3 in /usr/local/lib/python3.10/dist-packages (from qiskit>=0.45.0->qiskit_ibm_provider) (1.12.1)\n",
            "Requirement already satisfied: dill>=0.3 in /usr/local/lib/python3.10/dist-packages (from qiskit>=0.45.0->qiskit_ibm_provider) (0.3.8)\n",
            "Requirement already satisfied: stevedore>=3.0.0 in /usr/local/lib/python3.10/dist-packages (from qiskit>=0.45.0->qiskit_ibm_provider) (5.2.0)\n",
            "Requirement already satisfied: symengine>=0.11 in /usr/local/lib/python3.10/dist-packages (from qiskit>=0.45.0->qiskit_ibm_provider) (0.11.0)\n",
            "Requirement already satisfied: charset-normalizer<4,>=2 in /usr/local/lib/python3.10/dist-packages (from requests>=2.19->qiskit_ibm_provider) (3.3.2)\n",
            "Requirement already satisfied: idna<4,>=2.5 in /usr/local/lib/python3.10/dist-packages (from requests>=2.19->qiskit_ibm_provider) (3.7)\n",
            "Requirement already satisfied: certifi>=2017.4.17 in /usr/local/lib/python3.10/dist-packages (from requests>=2.19->qiskit_ibm_provider) (2024.6.2)\n",
            "Requirement already satisfied: cryptography>=1.3 in /usr/local/lib/python3.10/dist-packages (from requests-ntlm>=1.1.0->qiskit_ibm_provider) (42.0.7)\n",
            "Requirement already satisfied: pyspnego>=0.4.0 in /usr/local/lib/python3.10/dist-packages (from requests-ntlm>=1.1.0->qiskit_ibm_provider) (0.11.0)\n",
            "Requirement already satisfied: cffi>=1.12 in /usr/local/lib/python3.10/dist-packages (from cryptography>=1.3->requests-ntlm>=1.1.0->qiskit_ibm_provider) (1.16.0)\n",
            "Requirement already satisfied: pbr!=2.1.0,>=2.0.0 in /usr/local/lib/python3.10/dist-packages (from stevedore>=3.0.0->qiskit>=0.45.0->qiskit_ibm_provider) (6.0.0)\n",
            "Requirement already satisfied: mpmath<1.4.0,>=1.1.0 in /usr/local/lib/python3.10/dist-packages (from sympy>=1.3->qiskit>=0.45.0->qiskit_ibm_provider) (1.3.0)\n",
            "Requirement already satisfied: pycparser in /usr/local/lib/python3.10/dist-packages (from cffi>=1.12->cryptography>=1.3->requests-ntlm>=1.1.0->qiskit_ibm_provider) (2.22)\n",
            "Requirement already satisfied: pip in /usr/local/lib/python3.10/dist-packages (23.1.2)\n",
            "Requirement already satisfied: install in /usr/local/lib/python3.10/dist-packages (1.3.5)\n",
            "Requirement already satisfied: pylatexenc in /usr/local/lib/python3.10/dist-packages (2.10)\n",
            "Requirement already satisfied: qiskit_aer in /usr/local/lib/python3.10/dist-packages (0.14.2)\n",
            "Requirement already satisfied: qiskit>=0.45.2 in /usr/local/lib/python3.10/dist-packages (from qiskit_aer) (1.1.0)\n",
            "Requirement already satisfied: numpy>=1.16.3 in /usr/local/lib/python3.10/dist-packages (from qiskit_aer) (1.25.2)\n",
            "Requirement already satisfied: scipy>=1.0 in /usr/local/lib/python3.10/dist-packages (from qiskit_aer) (1.11.4)\n",
            "Requirement already satisfied: psutil>=5 in /usr/local/lib/python3.10/dist-packages (from qiskit_aer) (5.9.5)\n",
            "Requirement already satisfied: rustworkx>=0.14.0 in /usr/local/lib/python3.10/dist-packages (from qiskit>=0.45.2->qiskit_aer) (0.14.2)\n",
            "Requirement already satisfied: sympy>=1.3 in /usr/local/lib/python3.10/dist-packages (from qiskit>=0.45.2->qiskit_aer) (1.12.1)\n",
            "Requirement already satisfied: dill>=0.3 in /usr/local/lib/python3.10/dist-packages (from qiskit>=0.45.2->qiskit_aer) (0.3.8)\n",
            "Requirement already satisfied: python-dateutil>=2.8.0 in /usr/local/lib/python3.10/dist-packages (from qiskit>=0.45.2->qiskit_aer) (2.8.2)\n",
            "Requirement already satisfied: stevedore>=3.0.0 in /usr/local/lib/python3.10/dist-packages (from qiskit>=0.45.2->qiskit_aer) (5.2.0)\n",
            "Requirement already satisfied: typing-extensions in /usr/local/lib/python3.10/dist-packages (from qiskit>=0.45.2->qiskit_aer) (4.12.1)\n",
            "Requirement already satisfied: symengine>=0.11 in /usr/local/lib/python3.10/dist-packages (from qiskit>=0.45.2->qiskit_aer) (0.11.0)\n",
            "Requirement already satisfied: six>=1.5 in /usr/local/lib/python3.10/dist-packages (from python-dateutil>=2.8.0->qiskit>=0.45.2->qiskit_aer) (1.16.0)\n",
            "Requirement already satisfied: pbr!=2.1.0,>=2.0.0 in /usr/local/lib/python3.10/dist-packages (from stevedore>=3.0.0->qiskit>=0.45.2->qiskit_aer) (6.0.0)\n",
            "Requirement already satisfied: mpmath<1.4.0,>=1.1.0 in /usr/local/lib/python3.10/dist-packages (from sympy>=1.3->qiskit>=0.45.2->qiskit_aer) (1.3.0)\n"
          ]
        }
      ]
    },
    {
      "cell_type": "code",
      "execution_count": null,
      "metadata": {
        "id": "fjlFCm2aEQrp"
      },
      "outputs": [],
      "source": [
        "# Create circuit to test transpiler on\n",
        "from qiskit import QuantumCircuit, transpile\n",
        "from qiskit.circuit.library import GroverOperator, Diagonal\n",
        "# Use Statevector object to calculate the ideal output\n",
        "from qiskit.quantum_info import Statevector\n",
        "from qiskit.visualization import plot_histogram\n",
        "import qiskit\n",
        "from qiskit import QuantumCircuit,QuantumRegister,ClassicalRegister\n",
        "\n",
        "from qiskit_ibm_provider import least_busy\n",
        "# Qiskit Runtime\n",
        "from qiskit_ibm_runtime import QiskitRuntimeService,Session ,Batch,Session, Sampler\n",
        "from qiskit_aer import AerSimulator\n",
        "from qiskit.primitives import BackendSampler\n",
        "import numpy as np\n",
        "import math\n",
        "from fractions import Fraction\n",
        "import time\n",
        "import matplotlib.pyplot as plt\n",
        "from qiskit.visualization import plot_histogram\n",
        "import matplotlib.pyplot as plt\n",
        "\n"
      ]
    },
    {
      "cell_type": "markdown",
      "source": [
        "##Construyendo el circuito"
      ],
      "metadata": {
        "id": "fV4D_OYgEpU9"
      }
    },
    {
      "cell_type": "code",
      "source": [
        "q = QuantumRegister(6)\n",
        "qc = QuantumCircuit(q)\n",
        "qc.x(q[2])\n",
        "qc.cx(q[1], q[5])\n",
        "qc.cx(q[2], q[5])\n",
        "qc.cx(q[3], q[5])\n",
        "qc.ccx(q[1], q[2], q[4])\n",
        "qc.ccx(q[3], q[4], q[5])\n",
        "qc.ccx(q[1], q[2], q[4])\n",
        "qc.x(q[2])\n",
        "qc.draw(output='mpl')"
      ],
      "metadata": {
        "id": "KJ44irOyExhP",
        "colab": {
          "base_uri": "https://localhost:8080/",
          "height": 449
        },
        "outputId": "baebb397-89e7-44b2-f988-06a70e0c721a"
      },
      "execution_count": null,
      "outputs": [
        {
          "output_type": "execute_result",
          "data": {
            "text/plain": [
              "<Figure size 826.028x535.111 with 1 Axes>"
            ],
            "image/png": "[encoded data removed]"
          },
          "metadata": {},
          "execution_count": 45
        }
      ]
    },
    {
      "cell_type": "code",
      "source": [
        "def black_box_u_f(circuit, f_in, f_out, aux, n, exactly_1_3_sat_formula):\n",
        "    \"\"\"Circuit that computes the black-box function from f_in to f_out.\n",
        "\n",
        "    Create a circuit that verifies whether a given exactly-1 3-SAT\n",
        "    formula is satisfied by the input. The exactly-1 version\n",
        "    requires exactly one literal out of every clause to be satisfied.\n",
        "    \"\"\"\n",
        "    num_clauses = len(exactly_1_3_sat_formula)\n",
        "    for (k, clause) in enumerate(exactly_1_3_sat_formula):\n",
        "        # This loop ensures aux[k] is 1 if an odd number of literals\n",
        "        # are true\n",
        "        for literal in clause:\n",
        "            if literal > 0:\n",
        "                circuit.cx(f_in[literal-1], aux[k])\n",
        "            else:\n",
        "                circuit.x(f_in[-literal-1])\n",
        "                circuit.cx(f_in[-literal-1], aux[k])\n",
        "        # Flip aux[k] if all literals are true, using auxiliary qubit\n",
        "        # (ancilla) aux[num_clauses]\n",
        "        circuit.ccx(f_in[0], f_in[1], aux[num_clauses])\n",
        "        circuit.ccx(f_in[2], aux[num_clauses], aux[k])\n",
        "        # Flip back to reverse state of negative literals and ancilla\n",
        "        circuit.ccx(f_in[0], f_in[1], aux[num_clauses])\n",
        "        for literal in clause:\n",
        "            if literal < 0:\n",
        "                circuit.x(f_in[-literal-1])\n",
        "    # The formula is satisfied if and only if all auxiliary qubits\n",
        "    # except aux[num_clauses] are 1\n",
        "    if (num_clauses == 1):\n",
        "        circuit.cx(aux[0], f_out[0])\n",
        "    elif (num_clauses == 2):\n",
        "        circuit.ccx(aux[0], aux[1], f_out[0])\n",
        "    elif (num_clauses == 3):\n",
        "        circuit.ccx(aux[0], aux[1], aux[num_clauses])\n",
        "        circuit.ccx(aux[2], aux[num_clauses], f_out[0])\n",
        "        circuit.ccx(aux[0], aux[1], aux[num_clauses])\n",
        "    else:\n",
        "        raise ValueError('We only allow at most 3 clauses')\n",
        "    # Flip back any auxiliary qubits to make sure state is consistent\n",
        "    # for future executions of this routine; same loop as above.\n",
        "    for (k, clause) in enumerate(exactly_1_3_sat_formula):\n",
        "        for literal in clause:\n",
        "            if literal > 0:\n",
        "                circuit.cx(f_in[literal-1], aux[k])\n",
        "            else:\n",
        "                circuit.x(f_in[-literal-1])\n",
        "                circuit.cx(f_in[-literal-1], aux[k])\n",
        "        circuit.ccx(f_in[0], f_in[1], aux[num_clauses])\n",
        "        circuit.ccx(f_in[2], aux[num_clauses], aux[k])\n",
        "        circuit.ccx(f_in[0], f_in[1], aux[num_clauses])\n",
        "        for literal in clause:\n",
        "            if literal < 0:\n",
        "                circuit.x(f_in[-literal-1])\n",
        " # -- end function\n"
      ],
      "metadata": {
        "id": "_caflYI9LTBA"
      },
      "execution_count": null,
      "outputs": []
    },
    {
      "cell_type": "code",
      "source": [
        "def n_controlled_Z(circuit, controls, target):\n",
        "    \"\"\"Implement a Z gate with multiple controls\"\"\"\n",
        "    if (len(controls) > 2):\n",
        "        raise ValueError('The controlled Z with more than 2 ' +\n",
        "                         'controls is not implemented')\n",
        "    elif (len(controls) == 1):\n",
        "        circuit.h(target)\n",
        "        circuit.cx(controls[0], target)\n",
        "        circuit.h(target)\n",
        "    elif (len(controls) == 2):\n",
        "        circuit.h(target)\n",
        "        circuit.ccx(controls[0], controls[1], target)\n",
        "        circuit.h(target)\n",
        "# -- end function"
      ],
      "metadata": {
        "id": "ppGD-aH3LcgI"
      },
      "execution_count": null,
      "outputs": []
    },
    {
      "cell_type": "code",
      "source": [
        "def inversion_about_average(circuit, f_in, n):\n",
        "    \"\"\"Apply inversion about the average step of Grover's algorithm.\"\"\"\n",
        "    # Hadamards everywhere\n",
        "    for j in range(n):\n",
        "        circuit.h(f_in[j])\n",
        "    # D matrix: flips the sign of the state |000> only\n",
        "    for j in range(n):\n",
        "        circuit.x(f_in[j])\n",
        "    n_controlled_Z(circuit, [f_in[j] for j in range(n-1)], f_in[n-1])\n",
        "    for j in range(n):\n",
        "        circuit.x(f_in[j])\n",
        "    # Hadamards everywhere again\n",
        "    for j in range(n):\n",
        "        circuit.h(f_in[j])\n",
        "# -- end function"
      ],
      "metadata": {
        "id": "uQjaPFWdLfjd"
      },
      "execution_count": null,
      "outputs": []
    },
    {
      "cell_type": "code",
      "source": [
        "qr = QuantumRegister(3)\n",
        "qInvAvg = QuantumCircuit(qr)\n",
        "inversion_about_average(qInvAvg, qr, 3)\n",
        "qInvAvg.draw(output='mpl')"
      ],
      "metadata": {
        "colab": {
          "base_uri": "https://localhost:8080/",
          "height": 255
        },
        "id": "wFGa2i1jLjdL",
        "outputId": "1433ea2a-4f0d-442e-977e-fe7628c7c95a"
      },
      "execution_count": null,
      "outputs": [
        {
          "output_type": "execute_result",
          "data": {
            "text/plain": [
              "<Figure size 742.417x284.278 with 1 Axes>"
            ],
            "image/png": "[encoded data removed]"
          },
          "metadata": {},
          "execution_count": 49
        }
      ]
    },
    {
      "cell_type": "code",
      "source": [
        "\"\"\"\n",
        "Grover search implemented in Qiskit.\n",
        "\n",
        "This module contains the code necessary to run Grover search on 3\n",
        "qubits, both with a simulator and with a real quantum computing\n",
        "device. This code is the companion for the paper\n",
        "\"An introduction to quantum computing, without the physics\",\n",
        "Giacomo Nannicini, https://arxiv.org/abs/1708.03684.\n",
        "\"\"\"\n",
        "\n",
        "def input_state(circuit, f_in, f_out, n):\n",
        "    \"\"\"(n+1)-qubit input state for Grover search.\"\"\"\n",
        "    for j in range(n):\n",
        "        circuit.h(f_in[j])\n",
        "    circuit.x(f_out)\n",
        "    circuit.h(f_out)\n",
        "# -- end function\n",
        "\n",
        "# Make a quantum program for the n-bit Grover search.\n",
        "n = 3\n",
        "\n",
        "# Exactly-1 3-SAT formula to be satisfied, in conjunctive\n",
        "# normal form. We represent literals with integers, positive or\n",
        "# negative, to indicate a Boolean variable or its negation.\n",
        "exactly_1_3_sat_formula = [[1, 2, -3], [-1, -2, -3], [-1, 2, 3]]\n",
        "\n",
        "# Define three quantum registers: 'f_in' is the search space (input\n",
        "# to the function f), 'f_out' is bit used for the output of function\n",
        "# f, aux are the auxiliary bits used by f to perform its\n",
        "# computation.\n",
        "f_in = QuantumRegister(n)\n",
        "f_out = QuantumRegister(1)\n",
        "aux = QuantumRegister(len(exactly_1_3_sat_formula) + 1)\n",
        "\n",
        "# Define classical register for algorithm result\n",
        "ans = ClassicalRegister(n)\n",
        "\n",
        "# Define quantum circuit with above registers\n",
        "grover = QuantumCircuit()\n",
        "grover.add_register(f_in)\n",
        "grover.add_register(f_out)\n",
        "grover.add_register(aux)\n",
        "grover.add_register(ans)\n",
        "\n",
        "input_state(grover, f_in, f_out, n)\n",
        "T = 2\n",
        "for t in range(T):\n",
        "    # Apply T full iterations\n",
        "    black_box_u_f(grover, f_in, f_out, aux, n, exactly_1_3_sat_formula)\n",
        "    inversion_about_average(grover, f_in, n)\n",
        "\n",
        "# Measure the output register in the computational basis\n",
        "for j in range(n):\n",
        "    grover.measure(f_in[j], ans[j])\n",
        "\n",
        "# Execute circuit\n",
        "\n",
        "# Ejecutar el circuito\n",
        "simulator = AerSimulator()\n",
        "compiled_grover = transpile(grover, simulator)\n",
        "job = simulator.run(compiled_grover, shots=1000)\n",
        "result = job.result()\n",
        "\n",
        "\n",
        "\n",
        "\n",
        "# Obtener cuentas y trazar histograma\n",
        "counts = result.get_counts(compiled_grover)\n",
        "# Obtener los estados y sus frecuencias\n",
        "states = list(counts.keys())\n",
        "frequencies = list(counts.values())\n",
        "\n",
        "# Crear el gráfico de barras\n",
        "plt.figure(figsize=(10, 6))\n",
        "plt.bar(states, frequencies, color='blue')\n",
        "\n",
        "# Añadir títulos y etiquetas\n",
        "plt.xlabel('Estados')\n",
        "plt.ylabel('Frecuencia')\n",
        "plt.title('Histograma de Resultados del Algoritmo de Grover')\n",
        "\n",
        "# Mostrar el gráfico\n",
        "plt.show()"
      ],
      "metadata": {
        "id": "f01F0-BqLrkC",
        "colab": {
          "base_uri": "https://localhost:8080/",
          "height": 564
        },
        "outputId": "ded7117c-d616-45ec-eb1c-6cc99badaf47"
      },
      "execution_count": null,
      "outputs": [
        {
          "output_type": "display_data",
          "data": {
            "text/plain": [
              "<Figure size 1000x600 with 1 Axes>"
            ],
            "image/png": "[encoded data removed]"
          },
          "metadata": {}
        }
      ]
    },
    {
      "cell_type": "code",
      "source": [
        "\n",
        "QiskitRuntimeService.save_account(channel=\"ibm_quantum\", token='a53e5379fb809070499f1c93bc3e4c8f0f0d79ce82208e955f66a2c31c7a8e94dd89d9cbc9949876ae3df523d355ede6e607911af787b5049bbd56867feb8c2b', overwrite=True)\n",
        "provider = QiskitRuntimeService()\n",
        "\n",
        "# Filtrar para ver aquellos que solo tienen más de x qubits\n",
        "small_devices = provider.backends(min_num_qubits=5, simulator=False, operational=True)\n",
        "\n",
        "# Elegir el servidor que esté menos ocupado\n",
        "backend = least_busy(small_devices)\n",
        "\n",
        "print(f\"Elegido backend: {backend}\")\n",
        "\n",
        "# Establecemos nuestro backend\n",
        "backend = provider.get_backend('ibm_brisbane')"
      ],
      "metadata": {
        "colab": {
          "base_uri": "https://localhost:8080/"
        },
        "id": "o0bXFb0vuJC5",
        "outputId": "a9bda4bd-d5e5-4813-b7eb-4195c0c3b544"
      },
      "execution_count": null,
      "outputs": [
        {
          "output_type": "stream",
          "name": "stdout",
          "text": [
            "Elegido backend: <IBMBackend('ibm_sherbrooke')>\n"
          ]
        },
        {
          "output_type": "stream",
          "name": "stderr",
          "text": [
            "<ipython-input-63-455657974579>:13: DeprecationWarning: The get_backend() method is deprecated as of qiskit-ibm-runtime 0.24 and will be removed no sooner than 3 months after the release date. Please use backend() instead.\n",
            "  backend = provider.get_backend('ibm_brisbane')\n"
          ]
        }
      ]
    },
    {
      "cell_type": "code",
      "source": [
        "# compilamos el circuito usando ibm_brisbane\n",
        "grover_compiled = transpile(grover, backend=backend, seed_transpiler=1, optimization_level=3)\n",
        "\n",
        "print('gates = ', grover_compiled.count_ops())\n",
        "print('depth = ', grover_compiled.depth())"
      ],
      "metadata": {
        "colab": {
          "base_uri": "https://localhost:8080/"
        },
        "id": "H2aT_zMItLpg",
        "outputId": "7a35b3ec-5e0b-4374-8aa1-4096afff9447"
      },
      "execution_count": null,
      "outputs": [
        {
          "output_type": "stream",
          "name": "stdout",
          "text": [
            "gates =  OrderedDict([('rz', 2376), ('sx', 1417), ('ecr', 707), ('x', 116), ('measure', 3)])\n",
            "depth =  2517\n"
          ]
        }
      ]
    },
    {
      "cell_type": "code",
      "source": [
        "# Ejecutar el circuito en el backend\n",
        "job = backend.run(grover_compiled, shots=1024)\n",
        "\n",
        "# Monitorear el trabajo manualmente\n",
        "while job.status().name != 'DONE':\n",
        "    print(f\"Job status: {job.status().name}\")\n",
        "    time.sleep(60)  # Esperar 10 segundos antes de verificar el estado nuevamente\n",
        "\n",
        "# Obtener los resultados\n",
        "result = job.result()\n",
        "\n",
        "# Obtener las cuentas y mostrar el histograma\n",
        "counts = result.get_counts(grover_compiled)\n",
        "print(counts)\n",
        "plot_histogram(counts)\n",
        "plt.show()"
      ],
      "metadata": {
        "colab": {
          "base_uri": "https://localhost:8080/"
        },
        "id": "QUQ6elj_6BZi",
        "outputId": "887ae4ec-7995-4ea1-97ff-674e68a4e671"
      },
      "execution_count": null,
      "outputs": [
        {
          "output_type": "stream",
          "name": "stderr",
          "text": [
            "<ipython-input-69-621e435bb447>:2: DeprecationWarning: backend.run() and related sessions methods are deprecated  as of qiskit-ibm-runtime 0.23 and will be removed no sooner than 6 months after the release date. More details can be found in the primitives migration guide https://docs.quantum.ibm.com/api/migration-guides/qiskit-runtime.\n",
            "  job = backend.run(grover_compiled, shots=1024)\n"
          ]
        },
        {
          "output_type": "stream",
          "name": "stdout",
          "text": [
            "Job status: QUEUED\n",
            "Job status: QUEUED\n",
            "Job status: QUEUED\n",
            "Job status: QUEUED\n",
            "Job status: QUEUED\n",
            "Job status: QUEUED\n",
            "Job status: QUEUED\n",
            "Job status: QUEUED\n",
            "Job status: QUEUED\n",
            "Job status: QUEUED\n",
            "Job status: QUEUED\n",
            "Job status: QUEUED\n",
            "Job status: QUEUED\n",
            "Job status: QUEUED\n",
            "Job status: QUEUED\n",
            "Job status: QUEUED\n",
            "{'001': 147, '100': 117, '011': 153, '010': 118, '101': 139, '110': 127, '000': 104, '111': 119}\n"
          ]
        }
      ]
    },
    {
      "cell_type": "code",
      "source": [
        "# Obtener cuentas y trazar histograma\n",
        "counts = result.get_counts(compiled_grover)\n",
        "# Obtener los estados y sus frecuencias\n",
        "states = list(counts.keys())\n",
        "frequencies = list(counts.values())\n",
        "\n",
        "# Crear el gráfico de barras\n",
        "plt.figure(figsize=(10, 6))\n",
        "plt.bar(states, frequencies, color='blue')\n",
        "\n",
        "# Añadir títulos y etiquetas\n",
        "plt.xlabel('Estados')\n",
        "plt.ylabel('Frecuencia')\n",
        "plt.title('Histograma de Resultados del Algoritmo de Grover')\n",
        "\n",
        "# Mostrar el gráfico\n",
        "plt.show()"
      ],
      "metadata": {
        "colab": {
          "base_uri": "https://localhost:8080/",
          "height": 564
        },
        "id": "-V8HDe7q-tL_",
        "outputId": "225714f2-d350-48db-92f9-1e342c404b87"
      },
      "execution_count": null,
      "outputs": [
        {
          "output_type": "display_data",
          "data": {
            "text/plain": [
              "<Figure size 1000x600 with 1 Axes>"
            ],
            "image/png": "[encoded data removed]"
          },
          "metadata": {}
        }
      ]
    }
  ]
}